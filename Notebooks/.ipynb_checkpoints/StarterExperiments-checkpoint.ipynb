{
 "cells": [
  {
   "cell_type": "code",
   "execution_count": 4,
   "metadata": {},
   "outputs": [],
   "source": [
    "import numpy as np\n",
    "from scipy import io\n",
    "#from scipy.stats import zscore\n",
    "import matplotlib.pyplot as plt"
   ]
  },
  {
   "cell_type": "code",
   "execution_count": 3,
   "metadata": {},
   "outputs": [],
   "source": [
    "def zscore(X, axis=0):\n",
    "    mean_X= np.mean(X,axis=axis)\n",
    "    std_X = np.std(X, axis=axis) + 1e-10\n",
    "    X -= np.expand_dims(mean_X, axis)\n",
    "    X /= np.expand_dims(std_X, axis)\n",
    "\n",
    "    return X"
   ]
  },
  {
   "cell_type": "code",
   "execution_count": 5,
   "metadata": {},
   "outputs": [],
   "source": [
    "class DataNode():\n",
    "    def __init__(self, activity_patterns):\n",
    "        self.n_neurons=activity_patterns.shape[0]\n",
    "        self.activity_patterns=activity_patterns\n",
    "        \n",
    "class SimuNode():\n",
    "    def __init__(self,n_neurons):\n",
    "        self.n_neurons=n_neurons\n",
    "        \n",
    "class Synapse():\n",
    "    def __init__(self,pre_synaptic_node, post_synaptic_node,syn_type='exc'):\n",
    "        self.pre_synaptic_node=pre_synaptic_node\n",
    "        self.post_synaptic_node=post_synaptic_node\n",
    "        self.syn_type=syn_type\n",
    "        \n",
    "    def connect(self):\n",
    "        row_dim=self.pre_synaptic_node.n_neurons\n",
    "        col_dim=self.post_synaptic_node.n_neurons\n",
    "        if self.syn_type=='inh':\n",
    "            self.syn_weights=-np.random.normal(loc=0,size=(col_dim,row_dim))\n",
    "        elif self.syn_type=='exc':\n",
    "            self.syn_weights=np.random.normal(loc=0,size=(col_dim,row_dim))\n",
    "        \n",
    "        \n",
    "class CodeRunner():\n",
    "    def __init__(self,connectivity_graph,node_classification):\n",
    "        self.connectivity_graph=connectivity_graph\n",
    "        self.node_classification=node_classification\n",
    "    \n",
    "    def gain_function(self,x):\n",
    "        x[x<0]= 5*np.tanh(x[x<0]/5)\n",
    "        '''\n",
    "        if x<0:\n",
    "            return 5*np.tanh(x/5)\n",
    "        else:\n",
    "            return (100-5)*np.tanh(x/(100-5))\n",
    "        '''\n",
    "        x[x>=0]=(100-5)*np.tanh(x[x>=0]/(100-5))\n",
    "        return x\n",
    "        \n",
    "    def first_sim(self,data_path):\n",
    "        activity_patterns=zscore(io.loadmat(data_path)['stim'][0]['resp'][0].T,axis=1)\n",
    "        print(np.mean(activity_patterns,axis=1))\n",
    "        print(activity_patterns.shape)\n",
    "        dat=DataNode(activity_patterns)\n",
    "        sim=SimuNode(2)\n",
    "        syn=Synapse(dat,sim)\n",
    "        syn.connect()\n",
    "        print(syn.syn_weights.shape)\n",
    "        synapse_lst=[syn]\n",
    "        \n",
    "        theta_BCM = 1.0\n",
    "        rate=np.array([[0,0]])\n",
    "        h=0.01\n",
    "        for t in range(0,1000):\n",
    "            for syn in synapse_lst:\n",
    "                inpt=syn.syn_weights@activity_patterns[:,t]\n",
    "                dxdt=(-rate[-1]+self.gain_function(inpt))\n",
    "                print(dxdt.shape)\n",
    "                rate=np.vstack((rate,(rate[-1]+h*dxdt)))\n",
    "                print(inpt)\n",
    "                syn.syn_weights=update_weights(activity_pattern,syn.syn_weights,theta_BCM)\n",
    "                theta_BCM=update_BCM_threshold(theta_BCM,activity_pattern)\n",
    "                \n",
    "                \n",
    "        print(rate)\n",
    "        plt.plot(rate)\n",
    "        \n",
    "    def second_sim(self,data_path):\n",
    "        activity_patterns1=io.loadmat(data_path)['stim'][0]['resp'][0].T[:5000,:]\n",
    "        activity_patterns2=io.loadmat(data_path)['stim'][0]['resp'][0].T[5000:,:]\n",
    "        node_lst=[]\n",
    "        for node in self.node_classification:\n",
    "            if node=='simulated_inh':\n",
    "                node_lst.append(SimuNode(1))\n",
    "            if node=='simulated_exc':\n",
    "                node_lst.append(SimuNode(1))\n",
    "            if node=='data_inh':\n",
    "                node_lst.append(DataNode(activity_patterns1))\n",
    "            if node=='data_exc':\n",
    "                node_lst.append(DataNode(activity_patterns2))\n",
    "        synapse_lst=[]\n",
    "        for pre in range(0,self.connectivity_graph.shape[0]):\n",
    "            for post in range(0,self.connectivity_graph.shape[1]):\n",
    "                if self.connectivity_graph[pre,post]==1:\n",
    "                    if node_classification[pre][-3:]=='exc':\n",
    "                        syn_type='exc'\n",
    "                    elif node_classification[pre][-3:]=='inh':\n",
    "                        syn_type='inh'\n",
    "                    print(syn_type)\n",
    "                    syn=Synapse(node_lst[pre],node_lst[post],syn_type)\n",
    "                    syn.connect()\n",
    "                    synapse_lst.append(syn)\n",
    "                    \n",
    "        for syn in synapse_lst:\n",
    "            print(syn.syn_weights.shape) \n",
    "        \n",
    "        syn_ind=0\n",
    "        for t in range(0,1000):\n",
    "            for pre in range(0,self.connectivity_graph.shape[0]):\n",
    "                weights=np.zeros(())\n",
    "                for post in range(0,self.connectivity_graph.shape[1]):\n",
    "                    #weights=np.hstack\n",
    "                    inpt=syn.syn_weights@activity_patterns[:,t]\n",
    "                    dxdt=(-rate[-1]+self.gain_function(inpt))\n",
    "                    print(dxdt.shape)\n",
    "                    rate=np.vstack((rate,(rate[-1]+h*dxdt)))\n",
    "                    print(inpt)\n",
    "                    \n",
    "\n",
    "def update_weights(activity_pattern,W,theta_BCM):\n",
    "    alpha = 0.01\n",
    "    W+= alpha*activity_pattern.transpose()*activity_pattern*(activity_pattern-theta_BCM)\n",
    "    return W\n",
    "def update_BCM_threshold(theta_BCM,activity_pattern):\n",
    "    theta_BCM_dt = .001\n",
    "    BCM_target = 2.0\n",
    "    theta_BCM += theta_BCM_dt*((activity_pattern/BCM_target)*activity_pattern - theta_BCM)\n",
    "    return theta_BCM"
   ]
  },
  {
   "cell_type": "code",
   "execution_count": 7,
   "metadata": {},
   "outputs": [
    {
     "name": "stdout",
     "output_type": "stream",
     "text": [
      "[-4.5323137e-08 -8.4980876e-09  4.5323137e-08 ... -5.2876992e-08\n",
      " -4.5323137e-08 -1.5107712e-08]\n",
      "(9479, 4040)\n",
      "(2, 9479)\n",
      "(2,)\n",
      "[63.6051634 -5.       ]\n"
     ]
    },
    {
     "ename": "NameError",
     "evalue": "name 'activity_pattern' is not defined",
     "output_type": "error",
     "traceback": [
      "\u001b[0;31m---------------------------------------------------------------------------\u001b[0m",
      "\u001b[0;31mNameError\u001b[0m                                 Traceback (most recent call last)",
      "\u001b[0;32m<ipython-input-7-51c89c246d30>\u001b[0m in \u001b[0;36m<module>\u001b[0;34m\u001b[0m\n\u001b[1;32m      1\u001b[0m \u001b[0mpath\u001b[0m\u001b[0;34m=\u001b[0m\u001b[0;34m'/media/maria/DATA1/Documents/old_data/natimg2800_white_M170717_MP034_2017-09-14.mat'\u001b[0m\u001b[0;34m\u001b[0m\u001b[0;34m\u001b[0m\u001b[0m\n\u001b[0;32m----> 2\u001b[0;31m \u001b[0mrun\u001b[0m\u001b[0;34m=\u001b[0m\u001b[0mCodeRunner\u001b[0m\u001b[0;34m(\u001b[0m\u001b[0;36m0\u001b[0m\u001b[0;34m,\u001b[0m\u001b[0;36m0\u001b[0m\u001b[0;34m)\u001b[0m\u001b[0;34m.\u001b[0m\u001b[0mfirst_sim\u001b[0m\u001b[0;34m(\u001b[0m\u001b[0mpath\u001b[0m\u001b[0;34m)\u001b[0m\u001b[0;34m\u001b[0m\u001b[0;34m\u001b[0m\u001b[0m\n\u001b[0m",
      "\u001b[0;32m<ipython-input-5-5c99b690d990>\u001b[0m in \u001b[0;36mfirst_sim\u001b[0;34m(self, data_path)\u001b[0m\n\u001b[1;32m     60\u001b[0m                 \u001b[0mrate\u001b[0m\u001b[0;34m=\u001b[0m\u001b[0mnp\u001b[0m\u001b[0;34m.\u001b[0m\u001b[0mvstack\u001b[0m\u001b[0;34m(\u001b[0m\u001b[0;34m(\u001b[0m\u001b[0mrate\u001b[0m\u001b[0;34m,\u001b[0m\u001b[0;34m(\u001b[0m\u001b[0mrate\u001b[0m\u001b[0;34m[\u001b[0m\u001b[0;34m-\u001b[0m\u001b[0;36m1\u001b[0m\u001b[0;34m]\u001b[0m\u001b[0;34m+\u001b[0m\u001b[0mh\u001b[0m\u001b[0;34m*\u001b[0m\u001b[0mdxdt\u001b[0m\u001b[0;34m)\u001b[0m\u001b[0;34m)\u001b[0m\u001b[0;34m)\u001b[0m\u001b[0;34m\u001b[0m\u001b[0;34m\u001b[0m\u001b[0m\n\u001b[1;32m     61\u001b[0m                 \u001b[0mprint\u001b[0m\u001b[0;34m(\u001b[0m\u001b[0minpt\u001b[0m\u001b[0;34m)\u001b[0m\u001b[0;34m\u001b[0m\u001b[0;34m\u001b[0m\u001b[0m\n\u001b[0;32m---> 62\u001b[0;31m                 \u001b[0msyn\u001b[0m\u001b[0;34m.\u001b[0m\u001b[0msyn_weights\u001b[0m\u001b[0;34m=\u001b[0m\u001b[0mupdate_weights\u001b[0m\u001b[0;34m(\u001b[0m\u001b[0mactivity_pattern\u001b[0m\u001b[0;34m,\u001b[0m\u001b[0msyn\u001b[0m\u001b[0;34m.\u001b[0m\u001b[0msyn_weights\u001b[0m\u001b[0;34m,\u001b[0m\u001b[0mtheta_BCM\u001b[0m\u001b[0;34m)\u001b[0m\u001b[0;34m\u001b[0m\u001b[0;34m\u001b[0m\u001b[0m\n\u001b[0m\u001b[1;32m     63\u001b[0m                 \u001b[0mtheta_BCM\u001b[0m\u001b[0;34m=\u001b[0m\u001b[0mupdate_BCM_threshold\u001b[0m\u001b[0;34m(\u001b[0m\u001b[0mtheta_BCM\u001b[0m\u001b[0;34m,\u001b[0m\u001b[0mactivity_pattern\u001b[0m\u001b[0;34m)\u001b[0m\u001b[0;34m\u001b[0m\u001b[0;34m\u001b[0m\u001b[0m\n\u001b[1;32m     64\u001b[0m \u001b[0;34m\u001b[0m\u001b[0m\n",
      "\u001b[0;31mNameError\u001b[0m: name 'activity_pattern' is not defined"
     ]
    }
   ],
   "source": [
    "path='/media/maria/DATA1/Documents/old_data/natimg2800_white_M170717_MP034_2017-09-14.mat'\n",
    "run=CodeRunner(0,0).first_sim(path)"
   ]
  },
  {
   "cell_type": "code",
   "execution_count": 14,
   "metadata": {},
   "outputs": [
    {
     "name": "stdout",
     "output_type": "stream",
     "text": [
      "exc\n",
      "inh\n",
      "exc\n",
      "(1, 4479)\n",
      "(1, 5000)\n",
      "(1, 1)\n"
     ]
    }
   ],
   "source": [
    "node_classification=['data_exc','data_inh','simulated_exc']\n",
    "connectivity_graph=np.array([[0,0,1],[0,0,1],[0,0,1]])\n",
    "run=CodeRunner(connectivity_graph,node_classification).second_sim(path)\n"
   ]
  }
 ],
 "metadata": {
  "kernelspec": {
   "display_name": "Python 3",
   "language": "python",
   "name": "python3"
  },
  "language_info": {
   "codemirror_mode": {
    "name": "ipython",
    "version": 3
   },
   "file_extension": ".py",
   "mimetype": "text/x-python",
   "name": "python",
   "nbconvert_exporter": "python",
   "pygments_lexer": "ipython3",
   "version": "3.7.4"
  }
 },
 "nbformat": 4,
 "nbformat_minor": 2
}
