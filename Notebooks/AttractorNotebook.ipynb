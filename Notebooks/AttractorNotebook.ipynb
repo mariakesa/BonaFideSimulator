{
 "cells": [
  {
   "cell_type": "code",
   "execution_count": 7,
   "metadata": {},
   "outputs": [],
   "source": [
    "import numpy as np\n",
    "from scipy import io\n",
    "import matplotlib.pyplot as plt"
   ]
  },
  {
   "cell_type": "code",
   "execution_count": 45,
   "metadata": {},
   "outputs": [],
   "source": [
    "data_path='/media/maria/DATA1/Documents/old_data/natimg2800_white_M170717_MP034_2017-09-14.mat'\n",
    "activity_patterns=io.loadmat(data_path)['stim'][0]['resp'][0]\n",
    "act=np.pad(activity_patterns, ((0,0),(0, 10000-9479)), 'constant', constant_values=(0, 0))"
   ]
  },
  {
   "cell_type": "code",
   "execution_count": 4,
   "metadata": {
    "scrolled": true
   },
   "outputs": [
    {
     "name": "stdout",
     "output_type": "stream",
     "text": [
      "(4040, 9479)\n"
     ]
    }
   ],
   "source": [
    "print(activity_patterns.shape)"
   ]
  },
  {
   "cell_type": "code",
   "execution_count": 46,
   "metadata": {},
   "outputs": [
    {
     "name": "stdout",
     "output_type": "stream",
     "text": [
      "[[-1.  1.  1. ... -1. -1. -1.]\n",
      " [ 1.  1. -1. ... -1. -1. -1.]\n",
      " [ 1.  1.  1. ... -1. -1. -1.]\n",
      " ...\n",
      " [ 1.  1. -1. ... -1. -1. -1.]\n",
      " [ 1. -1. -1. ... -1. -1. -1.]\n",
      " [ 1. -1.  1. ... -1. -1. -1.]]\n",
      "(4040, 10000)\n"
     ]
    }
   ],
   "source": [
    "act[act!=0]=1\n",
    "act[act==0]=-1\n",
    "print(act)\n",
    "print(act.shape)"
   ]
  },
  {
   "cell_type": "code",
   "execution_count": 47,
   "metadata": {
    "scrolled": true
   },
   "outputs": [
    {
     "name": "stdout",
     "output_type": "stream",
     "text": [
      "(10000,)\n"
     ]
    }
   ],
   "source": [
    "mult=np.multiply(act[0,:],act[0,:])\n",
    "print(mult.shape)\n"
   ]
  },
  {
   "cell_type": "code",
   "execution_count": null,
   "metadata": {},
   "outputs": [],
   "source": [
    "weights=np.zeros((100,100))\n",
    "for j in range(0,100):\n",
    "    for i in range(0,100):\n",
    "        weights[j,i]"
   ]
  },
  {
   "cell_type": "code",
   "execution_count": 49,
   "metadata": {},
   "outputs": [
    {
     "name": "stdout",
     "output_type": "stream",
     "text": [
      "[1. 1. 1. ... 1. 1. 1.]\n",
      "10000.0\n"
     ]
    }
   ],
   "source": [
    "print(mult)\n",
    "print(mult.sum())"
   ]
  },
  {
   "cell_type": "code",
   "execution_count": 42,
   "metadata": {
    "scrolled": false
   },
   "outputs": [
    {
     "data": {
      "text/plain": [
       "<matplotlib.image.AxesImage at 0x7f324451c7d0>"
      ]
     },
     "execution_count": 42,
     "metadata": {},
     "output_type": "execute_result"
    },
    {
     "data": {
      "image/png": "[encoded data removed]",
      "text/plain": [
       "<Figure size 432x288 with 1 Axes>"
      ]
     },
     "metadata": {
      "needs_background": "light"
     },
     "output_type": "display_data"
    }
   ],
   "source": [
    "plt.imshow(mult.reshape(100,100))"
   ]
  }
 ],
 "metadata": {
  "kernelspec": {
   "display_name": "Python 3",
   "language": "python",
   "name": "python3"
  },
  "language_info": {
   "codemirror_mode": {
    "name": "ipython",
    "version": 3
   },
   "file_extension": ".py",
   "mimetype": "text/x-python",
   "name": "python",
   "nbconvert_exporter": "python",
   "pygments_lexer": "ipython3",
   "version": "3.7.4"
  }
 },
 "nbformat": 4,
 "nbformat_minor": 2
}
