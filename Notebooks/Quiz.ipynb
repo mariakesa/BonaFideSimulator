{
 "cells": [
  {
   "cell_type": "code",
   "execution_count": 2,
   "metadata": {},
   "outputs": [],
   "source": [
    "import numpy as np"
   ]
  },
  {
   "cell_type": "code",
   "execution_count": 5,
   "metadata": {},
   "outputs": [
    {
     "name": "stdout",
     "output_type": "stream",
     "text": [
      "(array([0.0190983, 0.1309017]), array([[-0.85065081, -0.52573111],\n",
      "       [ 0.52573111, -0.85065081]]))\n",
      "[ 0.07265425 -0.11755705]\n"
     ]
    }
   ],
   "source": [
    "Q=np.array([[0.2,0.1],[0.1,0.3]])\n",
    "print(np.linalg.eig(Q.T@Q))\n",
    "eig=np.linalg.eig(Q)[0][0]\n",
    "eigsh=np.linalg.eig(Q)[1][1]\n",
    "print(eig*eigsh)"
   ]
  }
 ],
 "metadata": {
  "kernelspec": {
   "display_name": "Python 3",
   "language": "python",
   "name": "python3"
  },
  "language_info": {
   "codemirror_mode": {
    "name": "ipython",
    "version": 3
   },
   "file_extension": ".py",
   "mimetype": "text/x-python",
   "name": "python",
   "nbconvert_exporter": "python",
   "pygments_lexer": "ipython3",
   "version": "3.7.4"
  }
 },
 "nbformat": 4,
 "nbformat_minor": 2
}
