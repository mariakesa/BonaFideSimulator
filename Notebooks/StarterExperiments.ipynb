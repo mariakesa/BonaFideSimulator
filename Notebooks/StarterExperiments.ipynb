{
 "cells": [
  {
   "cell_type": "code",
   "execution_count": 4,
   "metadata": {},
   "outputs": [],
   "source": [
    "import numpy as np\n",
    "from scipy import io"
   ]
  },
  {
   "cell_type": "code",
   "execution_count": 22,
   "metadata": {},
   "outputs": [],
   "source": [
    "class DataNode():\n",
    "    def __init__(self, activity_patterns):\n",
    "        self.n_neurons=activity_patterns.shape[0]\n",
    "        self.activity_patterns=activity_patterns\n",
    "        \n",
    "class SimuNode():\n",
    "    def __init__(self,n_neurons):\n",
    "        self.n_neurons=n_neurons\n",
    "        \n",
    "class Synapse():\n",
    "    def __init__(self,pre_synaptic_node, post_synaptic_node):\n",
    "        self.pre_synaptic_node=pre_synaptic_node\n",
    "        self.post_synaptic_node=post_synaptic_node\n",
    "        \n",
    "    def connect(self):\n",
    "        row_dim=self.pre_synaptic_node.n_neurons\n",
    "        col_dim=self.post_synaptic_node.n_neurons\n",
    "        self.syn_weights=np.random.normal(loc=0,size=(col_dim,row_dim))\n",
    "        \n",
    "        \n",
    "class CodeRunner():\n",
    "    def __init__(self,connectivity_graph,node_classification):\n",
    "        self.connectivity_graph=connectivity_graph\n",
    "        self.node_classification=node_classification\n",
    "    \n",
    "    def gain_function(x):\n",
    "        x[x<0]= 5*np.tanh(x[x<0]/5)\n",
    "        '''\n",
    "        if x<0:\n",
    "            return 5*np.tanh(x/5)\n",
    "        else:\n",
    "            return (100-5)*np.tanh(x/(100-5))\n",
    "        '''\n",
    "        x[x>=0]=(100-5)*np.tanh(x[x>=0]/(100-5))\n",
    "        return x\n",
    "        \n",
    "    def first_sim(self,data_path):\n",
    "        activity_patterns=io.loadmat(data_path)['stim'][0]['resp'][0].T\n",
    "        print(activity_patterns.shape)\n",
    "        dat=DataNode(activity_patterns)\n",
    "        sim=SimuNode(1)\n",
    "        syn=Synapse(dat,sim)\n",
    "        syn.connect()\n",
    "        print(syn.syn_weights.shape)\n",
    "        \n",
    "    def second_sim(self,data_path):\n",
    "        activity_patterns1=io.loadmat(data_path)['stim'][0]['resp'][0].T[:5000,:]\n",
    "        activity_patterns2=io.loadmat(data_path)['stim'][0]['resp'][0].T[5000:,:]\n",
    "        node_lst=[]\n",
    "        for node in self.node_classification:\n",
    "            if node=='simulated_inh':\n",
    "                node_lst.append(SimuNode(1))\n",
    "            if node=='simulated_exc':\n",
    "                node_lst.append(SimuNode(1))\n",
    "            if node=='data_inh':\n",
    "                node_lst.append(DataNode(activity_patterns1))\n",
    "            if node=='data_exc':\n",
    "                node_lst.append(DataNode(activity_patterns2))\n",
    "        synapse_lst=[]\n",
    "        for row in range(0,self.connectivity_graph.shape[0]):\n",
    "            for col in range(0,self.connectivity_graph.shape[1]):\n",
    "                if self.connectivity_graph[row,col]==1:\n",
    "                    synapse_lst.append(Synapse(node_lst[row],node_lst[col]))\n",
    "                    "
   ]
  },
  {
   "cell_type": "code",
   "execution_count": 13,
   "metadata": {},
   "outputs": [
    {
     "name": "stdout",
     "output_type": "stream",
     "text": [
      "(9479, 4040)\n",
      "(1, 9479)\n"
     ]
    }
   ],
   "source": [
    "path='/media/maria/DATA1/Documents/old_data/natimg2800_white_M170717_MP034_2017-09-14.mat'\n",
    "run=CodeRunner(0).first_sim(path)"
   ]
  },
  {
   "cell_type": "code",
   "execution_count": null,
   "metadata": {},
   "outputs": [],
   "source": [
    "node_classification=['data_exc','data_inh','simulated_exc']\n",
    "connectivity_graph=np.array([[1,0,1],[0,1,1],[0,0,0]])\n",
    "run=CodeRunner(connectivity_graph,node_classification).second_sim(path)"
   ]
  }
 ],
 "metadata": {
  "kernelspec": {
   "display_name": "Python 3",
   "language": "python",
   "name": "python3"
  },
  "language_info": {
   "codemirror_mode": {
    "name": "ipython",
    "version": 3
   },
   "file_extension": ".py",
   "mimetype": "text/x-python",
   "name": "python",
   "nbconvert_exporter": "python",
   "pygments_lexer": "ipython3",
   "version": "3.7.4"
  }
 },
 "nbformat": 4,
 "nbformat_minor": 2
}
